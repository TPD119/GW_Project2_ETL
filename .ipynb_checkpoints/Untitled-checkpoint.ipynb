{
 "cells": [
  {
   "cell_type": "code",
   "execution_count": null,
   "metadata": {},
   "outputs": [],
   "source": [
    "#Import dependencies\n",
    "import path\n",
    "import glob\n",
    "import pandas as pd\n",
    "\n"
   ]
  },
  {
   "cell_type": "code",
   "execution_count": null,
   "metadata": {},
   "outputs": [],
   "source": [
    "#Loop thru CSV files for parking violations, and add to DataFrame\n",
    "moving_list_ = []\n",
    "\n",
    "moving_path = '/Moving_Violations_2018'\n",
    "moving_allFiles = glob.glob(moving_path + \"/*.csv\")\n",
    "\n",
    "for moving_list_ in moving_allFiles:\n",
    "   df = pd.read_csv(moving_file_,index_col=None, header=0)\n",
    "   moving_list_.append(df)\n",
    "\n",
    "moving_df = pd.concat(parking_list_, axis = 0, ignore_index = True)\n",
    "\n",
    "moving_df.head()"
   ]
  }
 ],
 "metadata": {
  "kernelspec": {
   "display_name": "Python 3",
   "language": "python",
   "name": "python3"
  },
  "language_info": {
   "codemirror_mode": {
    "name": "ipython",
    "version": 3
   },
   "file_extension": ".py",
   "mimetype": "text/x-python",
   "name": "python",
   "nbconvert_exporter": "python",
   "pygments_lexer": "ipython3",
   "version": "3.6.8"
  }
 },
 "nbformat": 4,
 "nbformat_minor": 2
}
